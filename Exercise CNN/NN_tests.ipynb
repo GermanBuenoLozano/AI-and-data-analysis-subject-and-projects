{
 "cells": [
  {
   "cell_type": "markdown",
   "id": "49b83155-1a68-4350-b202-857f259c075e",
   "metadata": {},
   "source": [
    "# Comparativa de una red neuronal densa con la CNN"
   ]
  },
  {
   "cell_type": "code",
   "execution_count": 17,
   "id": "041399a4-d50f-443e-ad9d-073bef5e3390",
   "metadata": {},
   "outputs": [],
   "source": [
    "import numpy as np\n",
    "import tensorflow as tf\n",
    "from tensorflow.keras.models import load_model\n",
    "from PIL import Image"
   ]
  },
  {
   "cell_type": "markdown",
   "id": "aff7148f-050a-4e6d-b3da-98575305dd1e",
   "metadata": {},
   "source": [
    "Vamos a probar lo mismo que la CNN pero para la red neuronal densa"
   ]
  },
  {
   "cell_type": "code",
   "execution_count": 20,
   "id": "72a4ac51-158f-4346-879f-d863db926887",
   "metadata": {},
   "outputs": [
    {
     "name": "stdout",
     "output_type": "stream",
     "text": [
      "\u001b[1m1/1\u001b[0m \u001b[32m━━━━━━━━━━━━━━━━━━━━\u001b[0m\u001b[37m\u001b[0m \u001b[1m0s\u001b[0m 159ms/step\n",
      "Vector de probabilidades (softmax): 0.6584115\n",
      "es un perrito!\n"
     ]
    }
   ],
   "source": [
    "# ====== 1. Cargar la imagen ======\n",
    "ruta_imagen = 'mydog.jpg'  # Cambia esto por la ruta real\n",
    "imagen = Image.open(ruta_imagen).convert('L')  # Escala de grises\n",
    "\n",
    "# ====== 2. Redimensionar ======\n",
    "imagen = imagen.resize((256, 256))\n",
    "\n",
    "# ====== 3. Convertir a array y normalizar ======\n",
    "imagen_array = np.array(imagen, dtype=np.float32) / 255.0  # Normaliza entre 0 y 1\n",
    "\n",
    "# ====== 4. Cambiar dimensiones a (1, 256, 256, 1) ======\n",
    "imagen_array = np.expand_dims(imagen_array, axis=(0, -1))\n",
    "\n",
    "# ====== 5. Cargar el modelo ======\n",
    "modeloDenso = load_model('modeloDenso.keras')  # Cambia el nombre si es diferente\n",
    "\n",
    "# ====== 6. Hacer predicción ======\n",
    "prediccion = modeloDenso.predict(imagen_array)\n",
    "\n",
    "# ====== 7. Mostrar resultados ======\n",
    "print(\"Vector de probabilidades (softmax):\", prediccion[0][0])\n",
    "if prediccion[0][0] > 0.5:\n",
    "    print(\"es un perrito!\")\n",
    "elif prediccion[0][0] < 0.5:\n",
    "    print(\"es un gato!\")\n",
    "else:\n",
    "    print(\"no se lo que es\")"
   ]
  },
  {
   "cell_type": "code",
   "execution_count": 24,
   "id": "18dba877-8549-4ed3-8ac1-b606e83d3976",
   "metadata": {},
   "outputs": [
    {
     "name": "stdout",
     "output_type": "stream",
     "text": [
      "\u001b[1m1/1\u001b[0m \u001b[32m━━━━━━━━━━━━━━━━━━━━\u001b[0m\u001b[37m\u001b[0m \u001b[1m0s\u001b[0m 155ms/step\n",
      "Vector de probabilidades (softmax): 0.6584115\n",
      "es un perrito!\n"
     ]
    }
   ],
   "source": [
    "# ====== 1. Cargar la imagen ======\n",
    "ruta_imagen = 'gatoamigo.jpg'  # Cambia esto por la ruta real\n",
    "imagen = Image.open(ruta_imagen).convert('L')  # Escala de grises\n",
    "\n",
    "# ====== 2. Redimensionar ======\n",
    "imagen = imagen.resize((256, 256))\n",
    "\n",
    "# ====== 3. Convertir a array y normalizar ======\n",
    "imagen_array = np.array(imagen, dtype=np.float32) / 255.0  # Normaliza entre 0 y 1\n",
    "\n",
    "# ====== 4. Cambiar dimensiones a (1, 256, 256, 1) ======\n",
    "imagen_array = np.expand_dims(imagen_array, axis=(0, -1))\n",
    "\n",
    "# ====== 5. Cargar el modelo ======\n",
    "modeloDenso = load_model('modeloDenso.keras')  # Cambia el nombre si es diferente\n",
    "\n",
    "# ====== 6. Hacer predicción ======\n",
    "prediccion = modeloDenso.predict(imagen_array)\n",
    "\n",
    "# ====== 7. Mostrar resultados ======\n",
    "print(\"Vector de probabilidades (softmax):\", prediccion[0][0])\n",
    "if prediccion[0][0] > 0.5:\n",
    "    print(\"es un perrito!\")\n",
    "elif prediccion[0][0] < 0.5:\n",
    "    print(\"es un gato!\")\n",
    "else:\n",
    "    print(\"no se lo que es\")"
   ]
  },
  {
   "cell_type": "markdown",
   "id": "6111b767-9f80-4377-a628-185708a4f515",
   "metadata": {},
   "source": [
    "Vemos que en este caso no funciona muy bien la Red neuronal, queda evidenciado en este notebook la importancia de usar redes neuronales para deteccion de imagenes. Notese que mientras que en otros casos si que conseguiamos una clara diferencia entre un resultado y otro (para perro, softmax devolvia un 0.99 y para gato 7e-9), aqui no distingue entre un animal u otro"
   ]
  }
 ],
 "metadata": {
  "kernelspec": {
   "display_name": "Python [conda env:base] *",
   "language": "python",
   "name": "conda-base-py"
  },
  "language_info": {
   "codemirror_mode": {
    "name": "ipython",
    "version": 3
   },
   "file_extension": ".py",
   "mimetype": "text/x-python",
   "name": "python",
   "nbconvert_exporter": "python",
   "pygments_lexer": "ipython3",
   "version": "3.12.7"
  }
 },
 "nbformat": 4,
 "nbformat_minor": 5
}
