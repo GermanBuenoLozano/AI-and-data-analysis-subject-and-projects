{
 "cells": [
  {
   "cell_type": "markdown",
   "id": "f9e7961a-9c9a-499f-832d-e81f1552121a",
   "metadata": {},
   "source": [
    "# Codigo para testear la CNN con imagenes random"
   ]
  },
  {
   "cell_type": "code",
   "execution_count": 1,
   "id": "862f38d0-bb23-43f6-b113-d0f970d52182",
   "metadata": {},
   "outputs": [],
   "source": [
    "import numpy as np\n",
    "import tensorflow as tf\n",
    "from tensorflow.keras.models import load_model\n",
    "from PIL import Image"
   ]
  },
  {
   "cell_type": "markdown",
   "id": "10cf7ae9-1c22-4ddc-8558-f2164f1d157c",
   "metadata": {},
   "source": [
    "### Vamos a probar nuestra CNN con un ejemplo, pero no un ejemplo cualquiera, misu, mi perrito nos ayudara a probar nuestra CNN"
   ]
  },
  {
   "cell_type": "code",
   "execution_count": 5,
   "id": "ce37930f-adbb-4918-8d13-4bde4e3e45fa",
   "metadata": {},
   "outputs": [
    {
     "name": "stdout",
     "output_type": "stream",
     "text": [
      "\u001b[1m1/1\u001b[0m \u001b[32m━━━━━━━━━━━━━━━━━━━━\u001b[0m\u001b[37m\u001b[0m \u001b[1m0s\u001b[0m 495ms/step\n",
      "Vector de probabilidades (softmax): 0.99982774\n",
      "es un perrito!\n"
     ]
    }
   ],
   "source": [
    "# ====== 1. Cargar la imagen ======\n",
    "ruta_imagen = 'mydog.jpg'  # Cambia esto por la ruta real\n",
    "imagen = Image.open(ruta_imagen).convert('L')  # Escala de grises\n",
    "\n",
    "# ====== 2. Redimensionar ======\n",
    "imagen = imagen.resize((256, 256))\n",
    "\n",
    "# ====== 3. Convertir a array y normalizar ======\n",
    "imagen_array = np.array(imagen, dtype=np.float32) / 255.0  # Normaliza entre 0 y 1\n",
    "\n",
    "# ====== 4. Cambiar dimensiones a (1, 256, 256, 1) ======\n",
    "imagen_array = np.expand_dims(imagen_array, axis=(0, -1))\n",
    "\n",
    "# ====== 5. Cargar el modelo ======\n",
    "modeloCNN = load_model('modeloCNN.keras')  # Cambia el nombre si es diferente\n",
    "\n",
    "# ====== 6. Hacer predicción ======\n",
    "prediccion = modeloCNN.predict(imagen_array)\n",
    "\n",
    "# ====== 7. Mostrar resultados ======\n",
    "print(\"Vector de probabilidades (softmax):\", prediccion[0][0])\n",
    "if prediccion[0][0] > 0.5:\n",
    "    print(\"es un perrito!\")\n",
    "elif prediccion[0][0] < 0.5:\n",
    "    print(\"es un gato!\")\n",
    "else:\n",
    "    print(\"no se lo que es\")"
   ]
  },
  {
   "cell_type": "markdown",
   "id": "f0dba366-b5b8-4aca-8c36-637d2633710e",
   "metadata": {},
   "source": [
    "### Por otro lado nala, el gato de un amigo nos servira para ver si funciona la CNN o no "
   ]
  },
  {
   "cell_type": "code",
   "execution_count": 7,
   "id": "4e81da21-04b3-45cf-809e-a159428044ac",
   "metadata": {},
   "outputs": [
    {
     "name": "stdout",
     "output_type": "stream",
     "text": [
      "\u001b[1m1/1\u001b[0m \u001b[32m━━━━━━━━━━━━━━━━━━━━\u001b[0m\u001b[37m\u001b[0m \u001b[1m0s\u001b[0m 117ms/step\n",
      "Vector de probabilidades (softmax): 7.540066e-08\n",
      "es un gato!\n"
     ]
    }
   ],
   "source": [
    "# ====== 1. Cargar la imagen ======\n",
    "ruta_imagen = 'gatoamigo.jpg'  # Cambia esto por la ruta real\n",
    "imagen = Image.open(ruta_imagen).convert('L')  # Escala de grises\n",
    "\n",
    "# ====== 2. Redimensionar ======\n",
    "imagen = imagen.resize((256, 256))\n",
    "\n",
    "# ====== 3. Convertir a array y normalizar ======\n",
    "imagen_array = np.array(imagen, dtype=np.float32) / 255.0  # Normaliza entre 0 y 1\n",
    "\n",
    "# ====== 4. Cambiar dimensiones a (1, 256, 256, 1) ======\n",
    "imagen_array = np.expand_dims(imagen_array, axis=(0, -1))\n",
    "\n",
    "# ====== 5. Hacer predicción ======\n",
    "prediccion = modeloCNN.predict(imagen_array)\n",
    "\n",
    "# ====== 6. Mostrar resultados ======\n",
    "print(\"Vector de probabilidades (softmax):\", prediccion[0][0])\n",
    "if prediccion[0][0] > 0.5:\n",
    "    print(\"es un perrito!\")\n",
    "elif prediccion[0][0] < 0.5:\n",
    "    print(\"es un gato!\")\n",
    "else:\n",
    "    print(\"no se lo que es\")"
   ]
  },
  {
   "cell_type": "markdown",
   "id": "1b2e91ec-1b92-46a1-a9e2-7c75b73102af",
   "metadata": {},
   "source": [
    "Finalmente podemos ver como tanto misu como nala nos han ayudado a probar nuestra CNN"
   ]
  }
 ],
 "metadata": {
  "kernelspec": {
   "display_name": "Python [conda env:base] *",
   "language": "python",
   "name": "conda-base-py"
  },
  "language_info": {
   "codemirror_mode": {
    "name": "ipython",
    "version": 3
   },
   "file_extension": ".py",
   "mimetype": "text/x-python",
   "name": "python",
   "nbconvert_exporter": "python",
   "pygments_lexer": "ipython3",
   "version": "3.12.7"
  }
 },
 "nbformat": 4,
 "nbformat_minor": 5
}
